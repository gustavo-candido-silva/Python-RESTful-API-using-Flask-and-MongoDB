{
 "cells": [
  {
   "cell_type": "markdown",
   "metadata": {},
   "source": [
    "### MongoDB and the developed api are already running, there's a shell script that initialize them right after the machine's boot\n",
    "\n",
    "The codes of the api and MongoDB data access are in app folder:\n",
    "\n",
    "* the api code is the app.py file\n",
    "* the data access is the utils.py file\n",
    "\n",
    "this notebook will help you to see the api working, each cell make a request type, and shows the response"
   ]
  },
  {
   "cell_type": "markdown",
   "metadata": {},
   "source": [
    "# Requests"
   ]
  },
  {
   "cell_type": "markdown",
   "metadata": {},
   "source": [
    "run this cell to configure the access address used by the api and import the necessary libraries"
   ]
  },
  {
   "cell_type": "code",
   "execution_count": null,
   "metadata": {},
   "outputs": [],
   "source": [
    "import requests as req\n",
    "import pprint\n",
    "\n",
    "pp = pprint.PrettyPrinter(indent=5,width=60)\n",
    "\n",
    "host_port=\"http://127.0.0.1:5000/contact/\""
   ]
  },
  {
   "cell_type": "markdown",
   "metadata": {},
   "source": [
    "## GET\n",
    "\n",
    "this cell executes a get request at the flask RESTful api (returns all the contacts)"
   ]
  },
  {
   "cell_type": "code",
   "execution_count": null,
   "metadata": {},
   "outputs": [],
   "source": [
    "r = req.get(host_port)\n",
    "\n",
    "print(\"status code: {}\".format(r.status_code))\n",
    "print(\"response:\")\n",
    "pp.pprint(r.json())"
   ]
  },
  {
   "cell_type": "markdown",
   "metadata": {},
   "source": [
    "this cell executes a get request at the flask RESTful api (returns the contacts filtered by name)"
   ]
  },
  {
   "cell_type": "code",
   "execution_count": null,
   "metadata": {},
   "outputs": [],
   "source": [
    "name_filter=\"john\"\n",
    "\n",
    "r = req.get(host_port+name_filter+\"/\")\n",
    "\n",
    "print(\"status code: {}\".format(r.status_code))\n",
    "print(\"response:\")\n",
    "pp.pprint(r.json())"
   ]
  },
  {
   "cell_type": "markdown",
   "metadata": {},
   "source": [
    "### the dict that represents a contact that will be used in the body for the next examples has the following format:\n",
    "\n",
    "{<br>\n",
    "\"name\":str,<br>\n",
    "\"email\":str,<br>\n",
    "\"fonenumber\":str<br>\n",
    " }"
   ]
  },
  {
   "cell_type": "markdown",
   "metadata": {},
   "source": [
    "## POST\n",
    "this cell executes a post request at the flask RESTful api, it'll insert a new contact at MongoDB. To see the new data re-run the get methods"
   ]
  },
  {
   "cell_type": "code",
   "execution_count": null,
   "metadata": {},
   "outputs": [],
   "source": [
    "# dict of a contact \n",
    "body ={\n",
    "    \"name\":\"john\",\n",
    "    \"email\":\"john@mail.com\",\n",
    "    \"fonenumber\":\"123456789\"\n",
    "}\n",
    "\n",
    "r = req.post(host_port, json=body)\n",
    "\n",
    "print(\"status code: {}\".format(r.status_code))\n",
    "print(\"response:\")\n",
    "pp.pprint(r.json())"
   ]
  },
  {
   "cell_type": "markdown",
   "metadata": {},
   "source": [
    "## PUT"
   ]
  },
  {
   "cell_type": "markdown",
   "metadata": {},
   "source": [
    "this cell executes a put request at the flask RESTful api, it'll modify the contacts found by the given name at MongoDB. To see the new data re-run the get methods"
   ]
  },
  {
   "cell_type": "code",
   "execution_count": null,
   "metadata": {},
   "outputs": [],
   "source": [
    "body ={\n",
    "    \"name\":\"john\",\n",
    "    \"email\":\"john@mail.com\",\n",
    "    \"fonenumber\":\"987654321\"\n",
    "}\n",
    "\n",
    "name_filter=\"john\"\n",
    "\n",
    "r = req.put(host_port+name_filter+\"/\", json=body)\n",
    "\n",
    "print(\"status code: {}\".format(r.status_code))\n",
    "print(\"response:\")\n",
    "pp.pprint(r.json())"
   ]
  },
  {
   "cell_type": "markdown",
   "metadata": {},
   "source": [
    "## DELETE"
   ]
  },
  {
   "cell_type": "markdown",
   "metadata": {},
   "source": [
    "this cell executes a delete request at the flask RESTful api, it'll delete the contacts found by the given name at MongoDB. To check the deletion re-run the get methods"
   ]
  },
  {
   "cell_type": "code",
   "execution_count": null,
   "metadata": {},
   "outputs": [],
   "source": [
    "name_filter=\"john\"\n",
    "\n",
    "r = req.delete(host_port+name_filter+\"/\")\n",
    "\n",
    "print(\"status code: {}\".format(r.status_code))\n",
    "print(\"response:\")\n",
    "pp.pprint(r.json())"
   ]
  }
 ],
 "metadata": {
  "kernelspec": {
   "display_name": "Python 3",
   "language": "python",
   "name": "python3"
  },
  "language_info": {
   "codemirror_mode": {
    "name": "ipython",
    "version": 3
   },
   "file_extension": ".py",
   "mimetype": "text/x-python",
   "name": "python",
   "nbconvert_exporter": "python",
   "pygments_lexer": "ipython3",
   "version": "3.7.4"
  }
 },
 "nbformat": 4,
 "nbformat_minor": 2
}
